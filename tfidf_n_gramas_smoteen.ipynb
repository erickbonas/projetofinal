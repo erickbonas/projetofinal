{
  "nbformat": 4,
  "nbformat_minor": 0,
  "metadata": {
    "colab": {
      "name": "tfidf-n-gramas-smoteen.ipynb",
      "provenance": [],
      "collapsed_sections": [
        "YScTikUjXRzJ"
      ],
      "authorship_tag": "ABX9TyNrd6o9YvuUReB6oB7+Lhjl",
      "include_colab_link": true
    },
    "kernelspec": {
      "display_name": "Python 3",
      "name": "python3"
    },
    "language_info": {
      "name": "python"
    }
  },
  "cells": [
    {
      "cell_type": "markdown",
      "metadata": {
        "id": "view-in-github",
        "colab_type": "text"
      },
      "source": [
        "<a href=\"https://colab.research.google.com/github/erickbonas/projetofinal/blob/main/tfidf_n_gramas_smoteen.ipynb\" target=\"_parent\"><img src=\"https://colab.research.google.com/assets/colab-badge.svg\" alt=\"Open In Colab\"/></a>"
      ]
    },
    {
      "cell_type": "markdown",
      "metadata": {
        "id": "o7kM8OeXTGyI"
      },
      "source": [
        "# Baixando Arquivos"
      ]
    },
    {
      "cell_type": "code",
      "metadata": {
        "colab": {
          "resources": {
            "http://localhost:8080/nbextensions/google.colab/files.js": {
              "data": "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",
              "ok": true,
              "headers": [
                [
                  "content-type",
                  "application/javascript"
                ]
              ],
              "status": 200,
              "status_text": ""
            }
          },
          "base_uri": "https://localhost:8080/",
          "height": 91
        },
        "id": "MrlJw46cnD0B",
        "outputId": "6078fbce-e4e8-4622-866f-cad23184c6dc"
      },
      "source": [
        "from google.colab import files\n",
        "files.upload()"
      ],
      "execution_count": 1,
      "outputs": [
        {
          "output_type": "display_data",
          "data": {
            "text/html": [
              "\n",
              "     <input type=\"file\" id=\"files-c781e569-c15c-4fc8-8038-f8205ca6dc75\" name=\"files[]\" multiple disabled\n",
              "        style=\"border:none\" />\n",
              "     <output id=\"result-c781e569-c15c-4fc8-8038-f8205ca6dc75\">\n",
              "      Upload widget is only available when the cell has been executed in the\n",
              "      current browser session. Please rerun this cell to enable.\n",
              "      </output>\n",
              "      <script src=\"/nbextensions/google.colab/files.js\"></script> "
            ],
            "text/plain": [
              "<IPython.core.display.HTML object>"
            ]
          },
          "metadata": {
            "tags": []
          }
        },
        {
          "output_type": "stream",
          "text": [
            "Saving kaggle.json to kaggle.json\n"
          ],
          "name": "stdout"
        },
        {
          "output_type": "execute_result",
          "data": {
            "text/plain": [
              "{'kaggle.json': b'{\"username\":\"erickbonifaciobello\",\"key\":\"83ea173a21a1480a84351e3b1e475891\"}'}"
            ]
          },
          "metadata": {
            "tags": []
          },
          "execution_count": 1
        }
      ]
    },
    {
      "cell_type": "code",
      "metadata": {
        "id": "pZqpfQH6s75c",
        "colab": {
          "base_uri": "https://localhost:8080/"
        },
        "outputId": "78020bc6-c9de-4b0c-89ea-b4e0b9547e35"
      },
      "source": [
        "! pip install kaggle==1.5.6\n",
        "! mkdir ~/.kaggle\n",
        "! cp kaggle.json ~/.kaggle/\n",
        "! chmod 600 ~/.kaggle/kaggle.json"
      ],
      "execution_count": 2,
      "outputs": [
        {
          "output_type": "stream",
          "text": [
            "Collecting kaggle==1.5.6\n",
            "\u001b[?25l  Downloading https://files.pythonhosted.org/packages/62/ab/bb20f9b9e24f9a6250f95a432f8d9a7d745f8d24039d7a5a6eaadb7783ba/kaggle-1.5.6.tar.gz (58kB)\n",
            "\r\u001b[K     |█████▋                          | 10kB 19.8MB/s eta 0:00:01\r\u001b[K     |███████████▎                    | 20kB 26.1MB/s eta 0:00:01\r\u001b[K     |█████████████████               | 30kB 22.1MB/s eta 0:00:01\r\u001b[K     |██████████████████████▌         | 40kB 17.0MB/s eta 0:00:01\r\u001b[K     |████████████████████████████▏   | 51kB 8.8MB/s eta 0:00:01\r\u001b[K     |████████████████████████████████| 61kB 4.9MB/s \n",
            "\u001b[?25hRequirement already satisfied: urllib3<1.25,>=1.21.1 in /usr/local/lib/python3.7/dist-packages (from kaggle==1.5.6) (1.24.3)\n",
            "Requirement already satisfied: six>=1.10 in /usr/local/lib/python3.7/dist-packages (from kaggle==1.5.6) (1.15.0)\n",
            "Requirement already satisfied: certifi in /usr/local/lib/python3.7/dist-packages (from kaggle==1.5.6) (2021.5.30)\n",
            "Requirement already satisfied: python-dateutil in /usr/local/lib/python3.7/dist-packages (from kaggle==1.5.6) (2.8.1)\n",
            "Requirement already satisfied: requests in /usr/local/lib/python3.7/dist-packages (from kaggle==1.5.6) (2.23.0)\n",
            "Requirement already satisfied: tqdm in /usr/local/lib/python3.7/dist-packages (from kaggle==1.5.6) (4.41.1)\n",
            "Requirement already satisfied: python-slugify in /usr/local/lib/python3.7/dist-packages (from kaggle==1.5.6) (5.0.2)\n",
            "Requirement already satisfied: idna<3,>=2.5 in /usr/local/lib/python3.7/dist-packages (from requests->kaggle==1.5.6) (2.10)\n",
            "Requirement already satisfied: chardet<4,>=3.0.2 in /usr/local/lib/python3.7/dist-packages (from requests->kaggle==1.5.6) (3.0.4)\n",
            "Requirement already satisfied: text-unidecode>=1.3 in /usr/local/lib/python3.7/dist-packages (from python-slugify->kaggle==1.5.6) (1.3)\n",
            "Building wheels for collected packages: kaggle\n",
            "  Building wheel for kaggle (setup.py) ... \u001b[?25l\u001b[?25hdone\n",
            "  Created wheel for kaggle: filename=kaggle-1.5.6-cp37-none-any.whl size=72858 sha256=5ddaea16c84e874b7402f7370c6ff55a67c87425a6729e59e7c8177d74cfbd3b\n",
            "  Stored in directory: /root/.cache/pip/wheels/57/4e/e8/bb28d035162fb8f17f8ca5d42c3230e284c6aa565b42b72674\n",
            "Successfully built kaggle\n",
            "Installing collected packages: kaggle\n",
            "  Found existing installation: kaggle 1.5.12\n",
            "    Uninstalling kaggle-1.5.12:\n",
            "      Successfully uninstalled kaggle-1.5.12\n",
            "Successfully installed kaggle-1.5.6\n"
          ],
          "name": "stdout"
        }
      ]
    },
    {
      "cell_type": "code",
      "metadata": {
        "id": "kXDbPOxys-LR"
      },
      "source": [
        "! mkdir dataset"
      ],
      "execution_count": 3,
      "outputs": []
    },
    {
      "cell_type": "code",
      "metadata": {
        "colab": {
          "base_uri": "https://localhost:8080/"
        },
        "id": "TRyEMc88-UnL",
        "outputId": "a0322c2d-bb1d-4f9a-e2dd-0c5eceb1e50d"
      },
      "source": [
        "! kaggle competitions download -c fake-news-pair-classification-challenge -p '/content/dataset'"
      ],
      "execution_count": 4,
      "outputs": [
        {
          "output_type": "stream",
          "text": [
            "Downloading fake-news-pair-classification-challenge.zip to /content/dataset\n",
            " 26% 9.00M/34.6M [00:00<00:00, 33.1MB/s]\n",
            "100% 34.6M/34.6M [00:00<00:00, 93.6MB/s]\n"
          ],
          "name": "stdout"
        }
      ]
    },
    {
      "cell_type": "code",
      "metadata": {
        "colab": {
          "base_uri": "https://localhost:8080/"
        },
        "id": "UoIZNNHWtCEa",
        "outputId": "fab1f352-873d-49d2-9845-cd9e9de580fd"
      },
      "source": [
        "! unzip '/content/dataset/fake-news-pair-classification-challenge.zip' -d '/content/dataset'"
      ],
      "execution_count": 5,
      "outputs": [
        {
          "output_type": "stream",
          "text": [
            "Archive:  /content/dataset/fake-news-pair-classification-challenge.zip\n",
            "  inflating: /content/dataset/sample_submission.csv  \n",
            "  inflating: /content/dataset/test.csv  \n",
            "  inflating: /content/dataset/train.csv  \n"
          ],
          "name": "stdout"
        }
      ]
    },
    {
      "cell_type": "markdown",
      "metadata": {
        "id": "1a0aYWIOTQW0"
      },
      "source": [
        "## Tratamento de dados"
      ]
    },
    {
      "cell_type": "code",
      "metadata": {
        "id": "HxI5NmvctDqU",
        "colab": {
          "base_uri": "https://localhost:8080/"
        },
        "outputId": "2bde8380-154a-4a46-9f7e-3ffc8ad6e70b"
      },
      "source": [
        "import pandas as pd\n",
        "import matplotlib.pyplot as plt\n",
        "import numpy as np\n",
        "from sklearn.model_selection import train_test_split\n",
        "from sklearn.pipeline import make_pipeline\n",
        "from sklearn.feature_extraction.text import TfidfVectorizer\n",
        "from sklearn.preprocessing import StandardScaler\n",
        "from sklearn.model_selection import GridSearchCV\n",
        "from sklearn.linear_model import LogisticRegression\n",
        "from sklearn.ensemble import RandomForestClassifier\n",
        "from sklearn.preprocessing import LabelEncoder\n",
        "from imblearn.combine import SMOTEENN\n",
        "np.random.seed(1082141) "
      ],
      "execution_count": 6,
      "outputs": [
        {
          "output_type": "stream",
          "text": [
            "/usr/local/lib/python3.7/dist-packages/sklearn/externals/six.py:31: FutureWarning: The module is deprecated in version 0.21 and will be removed in version 0.23 since we've dropped support for Python 2.7. Please rely on the official version of six (https://pypi.org/project/six/).\n",
            "  \"(https://pypi.org/project/six/).\", FutureWarning)\n",
            "/usr/local/lib/python3.7/dist-packages/sklearn/utils/deprecation.py:144: FutureWarning: The sklearn.neighbors.base module is  deprecated in version 0.22 and will be removed in version 0.24. The corresponding classes / functions should instead be imported from sklearn.neighbors. Anything that cannot be imported from sklearn.neighbors is now part of the private API.\n",
            "  warnings.warn(message, FutureWarning)\n"
          ],
          "name": "stderr"
        }
      ]
    },
    {
      "cell_type": "code",
      "metadata": {
        "id": "O1kdsMcrtFXz"
      },
      "source": [
        "training = pd.read_csv('dataset/train.csv')\n",
        "training = training.sample(n=20000)"
      ],
      "execution_count": 57,
      "outputs": []
    },
    {
      "cell_type": "code",
      "metadata": {
        "id": "1sECABjYbJAe"
      },
      "source": [
        "#Aplica strip em todas as colunas do dataframe\n",
        "training = training.apply(lambda x: x.str.strip() if x.dtype == \"object\" else x)"
      ],
      "execution_count": 58,
      "outputs": []
    },
    {
      "cell_type": "code",
      "metadata": {
        "id": "Kvf1G0kFXOJ4"
      },
      "source": [
        "training = training.replace(r'^\\s*$', np.nan, regex=True)"
      ],
      "execution_count": 59,
      "outputs": []
    },
    {
      "cell_type": "code",
      "metadata": {
        "id": "Oc2lrZzhZKDu"
      },
      "source": [
        "# Remove todos os NaN da tabela\n",
        "training = training.dropna()"
      ],
      "execution_count": 60,
      "outputs": []
    },
    {
      "cell_type": "markdown",
      "metadata": {
        "id": "VYgqsIDYTcot"
      },
      "source": [
        "# Classificadores"
      ]
    },
    {
      "cell_type": "markdown",
      "metadata": {
        "id": "vfT7UxbKbxg9"
      },
      "source": [
        "Sugestão colocar uma semente"
      ]
    },
    {
      "cell_type": "code",
      "metadata": {
        "colab": {
          "base_uri": "https://localhost:8080/",
          "height": 422
        },
        "id": "ycD1BJHi3Vmq",
        "outputId": "0c83cb66-5d01-4d83-afaf-db9d4d7b8dc3"
      },
      "source": [
        "df_train, df_val = train_test_split(training[['title1_en', 'title2_en', 'label']], test_size=0.2, shuffle=True)\n",
        "df_train"
      ],
      "execution_count": 61,
      "outputs": [
        {
          "output_type": "execute_result",
          "data": {
            "text/html": [
              "<div>\n",
              "<style scoped>\n",
              "    .dataframe tbody tr th:only-of-type {\n",
              "        vertical-align: middle;\n",
              "    }\n",
              "\n",
              "    .dataframe tbody tr th {\n",
              "        vertical-align: top;\n",
              "    }\n",
              "\n",
              "    .dataframe thead th {\n",
              "        text-align: right;\n",
              "    }\n",
              "</style>\n",
              "<table border=\"1\" class=\"dataframe\">\n",
              "  <thead>\n",
              "    <tr style=\"text-align: right;\">\n",
              "      <th></th>\n",
              "      <th>title1_en</th>\n",
              "      <th>title2_en</th>\n",
              "      <th>label</th>\n",
              "    </tr>\n",
              "  </thead>\n",
              "  <tbody>\n",
              "    <tr>\n",
              "      <th>306605</th>\n",
              "      <td>The succulent and succulent steak is glued to ...</td>\n",
              "      <td>This kind of \"glue\" has been on the market all...</td>\n",
              "      <td>agreed</td>\n",
              "    </tr>\n",
              "    <tr>\n",
              "      <th>295465</th>\n",
              "      <td>Liang Hua will replace Huawei as chairman of H...</td>\n",
              "      <td>I quit my job? No! I didn't do my best!</td>\n",
              "      <td>unrelated</td>\n",
              "    </tr>\n",
              "    <tr>\n",
              "      <th>126392</th>\n",
              "      <td>Feed the baby tadpole?! I'm sweaty...</td>\n",
              "      <td>Mother hears that the child eats \"live tadpole...</td>\n",
              "      <td>agreed</td>\n",
              "    </tr>\n",
              "    <tr>\n",
              "      <th>281735</th>\n",
              "      <td>Graphite number one has been awakened, net pro...</td>\n",
              "      <td>Zhang Liangying has been transfected, 51 -year...</td>\n",
              "      <td>unrelated</td>\n",
              "    </tr>\n",
              "    <tr>\n",
              "      <th>122639</th>\n",
              "      <td>Tell people the cell phone charge is less, the...</td>\n",
              "      <td>Double shadow, film die, Sun Yanyi crash, Shu ...</td>\n",
              "      <td>unrelated</td>\n",
              "    </tr>\n",
              "    <tr>\n",
              "      <th>...</th>\n",
              "      <td>...</td>\n",
              "      <td>...</td>\n",
              "      <td>...</td>\n",
              "    </tr>\n",
              "    <tr>\n",
              "      <th>155388</th>\n",
              "      <td>Sun Yat-sen Silver Dollars - some rare edition...</td>\n",
              "      <td>\"Running Man\" is exposed: First, no suspense, ...</td>\n",
              "      <td>unrelated</td>\n",
              "    </tr>\n",
              "    <tr>\n",
              "      <th>141597</th>\n",
              "      <td>God is banned, Zhao Benshan daughter ball, be ...</td>\n",
              "      <td>God and zhao benshan daughter qiu qiaoqiu brok...</td>\n",
              "      <td>unrelated</td>\n",
              "    </tr>\n",
              "    <tr>\n",
              "      <th>43646</th>\n",
              "      <td>A mosquito-repellent incense over six packs of...</td>\n",
              "      <td>Disinformation: 1 dish of mosquito-repellent i...</td>\n",
              "      <td>unrelated</td>\n",
              "    </tr>\n",
              "    <tr>\n",
              "      <th>318852</th>\n",
              "      <td>Tea \"strange\" eating, it is a hypoglycemic dev...</td>\n",
              "      <td>Do not blindly take the medicine to reduce blo...</td>\n",
              "      <td>unrelated</td>\n",
              "    </tr>\n",
              "    <tr>\n",
              "      <th>3264</th>\n",
              "      <td>2 million HIT digital currency for a platinum ...</td>\n",
              "      <td>This three-dollar bill is one of the few coins...</td>\n",
              "      <td>unrelated</td>\n",
              "    </tr>\n",
              "  </tbody>\n",
              "</table>\n",
              "<p>16000 rows × 3 columns</p>\n",
              "</div>"
            ],
            "text/plain": [
              "                                                title1_en  ...      label\n",
              "306605  The succulent and succulent steak is glued to ...  ...     agreed\n",
              "295465  Liang Hua will replace Huawei as chairman of H...  ...  unrelated\n",
              "126392              Feed the baby tadpole?! I'm sweaty...  ...     agreed\n",
              "281735  Graphite number one has been awakened, net pro...  ...  unrelated\n",
              "122639  Tell people the cell phone charge is less, the...  ...  unrelated\n",
              "...                                                   ...  ...        ...\n",
              "155388  Sun Yat-sen Silver Dollars - some rare edition...  ...  unrelated\n",
              "141597  God is banned, Zhao Benshan daughter ball, be ...  ...  unrelated\n",
              "43646   A mosquito-repellent incense over six packs of...  ...  unrelated\n",
              "318852  Tea \"strange\" eating, it is a hypoglycemic dev...  ...  unrelated\n",
              "3264    2 million HIT digital currency for a platinum ...  ...  unrelated\n",
              "\n",
              "[16000 rows x 3 columns]"
            ]
          },
          "metadata": {
            "tags": []
          },
          "execution_count": 61
        }
      ]
    },
    {
      "cell_type": "code",
      "metadata": {
        "colab": {
          "base_uri": "https://localhost:8080/",
          "height": 422
        },
        "id": "IY5NdobY5Vuk",
        "outputId": "622d6dec-d643-4890-b163-13f8f5364af5"
      },
      "source": [
        "x_train, x_val = df_train[['title1_en', 'title2_en']], df_val[['title1_en', 'title2_en']]\n",
        "y_train, y_val = df_train['label'], df_val['label']\n",
        "x_val"
      ],
      "execution_count": 64,
      "outputs": [
        {
          "output_type": "execute_result",
          "data": {
            "text/html": [
              "<div>\n",
              "<style scoped>\n",
              "    .dataframe tbody tr th:only-of-type {\n",
              "        vertical-align: middle;\n",
              "    }\n",
              "\n",
              "    .dataframe tbody tr th {\n",
              "        vertical-align: top;\n",
              "    }\n",
              "\n",
              "    .dataframe thead th {\n",
              "        text-align: right;\n",
              "    }\n",
              "</style>\n",
              "<table border=\"1\" class=\"dataframe\">\n",
              "  <thead>\n",
              "    <tr style=\"text-align: right;\">\n",
              "      <th></th>\n",
              "      <th>title1_en</th>\n",
              "      <th>title2_en</th>\n",
              "    </tr>\n",
              "  </thead>\n",
              "  <tbody>\n",
              "    <tr>\n",
              "      <th>40776</th>\n",
              "      <td>One week E car reviews the Yangtze River won p...</td>\n",
              "      <td>new energy cars collided with a streetcar, the...</td>\n",
              "    </tr>\n",
              "    <tr>\n",
              "      <th>189200</th>\n",
              "      <td>Ski5Virus Death Attacks in Yunnan Province's H...</td>\n",
              "      <td>A man in liuzhou, guangxi, spread a rumor that...</td>\n",
              "    </tr>\n",
              "    <tr>\n",
              "      <th>285822</th>\n",
              "      <td>An empty stomach can not eat 12 things, hungry...</td>\n",
              "      <td>\"Special Topics\" often eat garlic can prevent ...</td>\n",
              "    </tr>\n",
              "    <tr>\n",
              "      <th>88461</th>\n",
              "      <td>Rural pensions less than city? Don't worry, st...</td>\n",
              "      <td>The urban and rural endowment is not equal? Th...</td>\n",
              "    </tr>\n",
              "    <tr>\n",
              "      <th>132985</th>\n",
              "      <td>The local state reappearance \"new dragon head\"...</td>\n",
              "      <td>Mixed to the first dragon head, by the main bo...</td>\n",
              "    </tr>\n",
              "    <tr>\n",
              "      <th>...</th>\n",
              "      <td>...</td>\n",
              "      <td>...</td>\n",
              "    </tr>\n",
              "    <tr>\n",
              "      <th>293313</th>\n",
              "      <td>after lindan liu kai - wei, wu jing, a martial...</td>\n",
              "      <td>Lin Dan has an affair with Wu Jing too? The wi...</td>\n",
              "    </tr>\n",
              "    <tr>\n",
              "      <th>201845</th>\n",
              "      <td>Teach you 5 ways to improve diabetic hyperglyc...</td>\n",
              "      <td>Good news for people with hyperglycemia. Keep ...</td>\n",
              "    </tr>\n",
              "    <tr>\n",
              "      <th>251266</th>\n",
              "      <td>Will it fail if it does not change the current...</td>\n",
              "      <td>Is the drip-drip-dripping car in Canton closed...</td>\n",
              "    </tr>\n",
              "    <tr>\n",
              "      <th>70795</th>\n",
              "      <td>The chairman of the board of directors is stil...</td>\n",
              "      <td>China PingAn clarify the chairman change rumor...</td>\n",
              "    </tr>\n",
              "    <tr>\n",
              "      <th>83624</th>\n",
              "      <td>Cough for a long time, cure a good one, do not...</td>\n",
              "      <td>Rich-wife daughter-in-law divorced her sister-...</td>\n",
              "    </tr>\n",
              "  </tbody>\n",
              "</table>\n",
              "<p>4000 rows × 2 columns</p>\n",
              "</div>"
            ],
            "text/plain": [
              "                                                title1_en                                          title2_en\n",
              "40776   One week E car reviews the Yangtze River won p...  new energy cars collided with a streetcar, the...\n",
              "189200  Ski5Virus Death Attacks in Yunnan Province's H...  A man in liuzhou, guangxi, spread a rumor that...\n",
              "285822  An empty stomach can not eat 12 things, hungry...  \"Special Topics\" often eat garlic can prevent ...\n",
              "88461   Rural pensions less than city? Don't worry, st...  The urban and rural endowment is not equal? Th...\n",
              "132985  The local state reappearance \"new dragon head\"...  Mixed to the first dragon head, by the main bo...\n",
              "...                                                   ...                                                ...\n",
              "293313  after lindan liu kai - wei, wu jing, a martial...  Lin Dan has an affair with Wu Jing too? The wi...\n",
              "201845  Teach you 5 ways to improve diabetic hyperglyc...  Good news for people with hyperglycemia. Keep ...\n",
              "251266  Will it fail if it does not change the current...  Is the drip-drip-dripping car in Canton closed...\n",
              "70795   The chairman of the board of directors is stil...  China PingAn clarify the chairman change rumor...\n",
              "83624   Cough for a long time, cure a good one, do not...  Rich-wife daughter-in-law divorced her sister-...\n",
              "\n",
              "[4000 rows x 2 columns]"
            ]
          },
          "metadata": {
            "tags": []
          },
          "execution_count": 64
        }
      ]
    },
    {
      "cell_type": "code",
      "metadata": {
        "id": "OUICbkvO39t_"
      },
      "source": [
        "features = 200\n",
        "\n",
        "encoder = make_pipeline(TfidfVectorizer(min_df=5,\n",
        "                                        stop_words='english',\n",
        "                                        strip_accents='unicode',                                        \n",
        "                                        ngram_range=(1,3),\n",
        "                                        max_features=features),                                        \n",
        "                        StandardScaler(with_mean=False))\n",
        "\n",
        "x_train_title1 = encoder.fit_transform(x_train['title1_en']).toarray()\n",
        "x_val_title1 = encoder.transform(x_val['title1_en']).toarray()\n",
        "\n",
        "x_train_title2 = encoder.fit_transform(x_train['title2_en']).toarray()\n",
        "x_val_title2 = encoder.transform(x_val['title2_en']).toarray()"
      ],
      "execution_count": 66,
      "outputs": []
    },
    {
      "cell_type": "code",
      "metadata": {
        "id": "N8UhxMrDKz0J"
      },
      "source": [
        "label_enc = LabelEncoder()\n",
        "ye_train = label_enc.fit_transform(y_train)\n",
        "ye_val = label_enc.transform(y_val)"
      ],
      "execution_count": 67,
      "outputs": []
    },
    {
      "cell_type": "code",
      "metadata": {
        "colab": {
          "base_uri": "https://localhost:8080/"
        },
        "id": "qHgT1NkxLKRj",
        "outputId": "5e94d6f8-7e64-42ca-bca0-acee9d4385b2"
      },
      "source": [
        "label_enc.classes_"
      ],
      "execution_count": 68,
      "outputs": [
        {
          "output_type": "execute_result",
          "data": {
            "text/plain": [
              "array(['agreed', 'disagreed', 'unrelated'], dtype=object)"
            ]
          },
          "metadata": {
            "tags": []
          },
          "execution_count": 68
        }
      ]
    },
    {
      "cell_type": "code",
      "metadata": {
        "id": "x5Gt74uKYxCt"
      },
      "source": [
        "x_train = np.concatenate((x_train_title1, x_train_title2), axis=1)\n",
        "x_val = np.concatenate((x_val_title1, x_val_title2), axis=1)"
      ],
      "execution_count": 69,
      "outputs": []
    },
    {
      "cell_type": "code",
      "metadata": {
        "id": "dJc2CiDygfO5"
      },
      "source": [
        "training = None\n",
        "df_train = None\n",
        "df_val = None\n",
        "x_train_title1 = None\n",
        "x_val_title1 = None\n",
        "x_train_title2 = None\n",
        "x_val_title2 = None"
      ],
      "execution_count": null,
      "outputs": []
    },
    {
      "cell_type": "code",
      "metadata": {
        "colab": {
          "base_uri": "https://localhost:8080/"
        },
        "id": "kXMXYHB3bZgD",
        "outputId": "97aab027-4286-4795-ccca-caa82522324d"
      },
      "source": [
        "x_train.shape"
      ],
      "execution_count": 70,
      "outputs": [
        {
          "output_type": "execute_result",
          "data": {
            "text/plain": [
              "(16000, 400)"
            ]
          },
          "metadata": {
            "tags": []
          },
          "execution_count": 70
        }
      ]
    },
    {
      "cell_type": "code",
      "metadata": {
        "colab": {
          "base_uri": "https://localhost:8080/"
        },
        "id": "SNLXxpkHb6wm",
        "outputId": "b0e4c5d7-88b0-43ab-942c-a5a13dbc2140"
      },
      "source": [
        "y_train.shape"
      ],
      "execution_count": 71,
      "outputs": [
        {
          "output_type": "execute_result",
          "data": {
            "text/plain": [
              "(16000,)"
            ]
          },
          "metadata": {
            "tags": []
          },
          "execution_count": 71
        }
      ]
    },
    {
      "cell_type": "markdown",
      "metadata": {
        "id": "zy8lno2RTh2d"
      },
      "source": [
        "## Regressor logistico"
      ]
    },
    {
      "cell_type": "code",
      "metadata": {
        "colab": {
          "base_uri": "https://localhost:8080/"
        },
        "id": "Sn85IT0r64CM",
        "outputId": "c8869b78-ec32-4628-83ba-c6a8d8bdf437"
      },
      "source": [
        "C_range = np.logspace(-3, 2, 5)\n",
        "\n",
        "lm = LogisticRegression(multi_class='ovr', solver='liblinear', max_iter=200, class_weight='balanced')\n",
        "\n",
        "grid_values = {'penalty': ['l1','l2'], 'C': C_range}\n",
        "grid_lm = GridSearchCV(lm, param_grid = grid_values, cv=3, scoring = 'accuracy', n_jobs = -1)\n",
        "\n",
        "grid_lm.fit(x_train, y_train)"
      ],
      "execution_count": 76,
      "outputs": [
        {
          "output_type": "execute_result",
          "data": {
            "text/plain": [
              "GridSearchCV(cv=3, error_score=nan,\n",
              "             estimator=LogisticRegression(C=1.0, class_weight='balanced',\n",
              "                                          dual=False, fit_intercept=True,\n",
              "                                          intercept_scaling=1, l1_ratio=None,\n",
              "                                          max_iter=200, multi_class='ovr',\n",
              "                                          n_jobs=None, penalty='l2',\n",
              "                                          random_state=None, solver='liblinear',\n",
              "                                          tol=0.0001, verbose=0,\n",
              "                                          warm_start=False),\n",
              "             iid='deprecated', n_jobs=-1,\n",
              "             param_grid={'C': array([1.00000000e-03, 1.77827941e-02, 3.16227766e-01, 5.62341325e+00,\n",
              "       1.00000000e+02]),\n",
              "                         'penalty': ['l1', 'l2']},\n",
              "             pre_dispatch='2*n_jobs', refit=True, return_train_score=False,\n",
              "             scoring='accuracy', verbose=0)"
            ]
          },
          "metadata": {
            "tags": []
          },
          "execution_count": 76
        }
      ]
    },
    {
      "cell_type": "code",
      "metadata": {
        "id": "MhVccqXm7NNt"
      },
      "source": [
        "C_best = grid_lm.best_params_['C']\n",
        "penalty_best = grid_lm.best_params_['penalty']\n",
        "g = grid_lm \n"
      ],
      "execution_count": 77,
      "outputs": []
    },
    {
      "cell_type": "code",
      "metadata": {
        "colab": {
          "base_uri": "https://localhost:8080/"
        },
        "id": "2_WEr4L18PMT",
        "outputId": "1da7599b-a337-41fb-9e99-2ff9b079301d"
      },
      "source": [
        "# Imprimindo os melhores parâmetros encontrados\n",
        "print(\"Melhores parametros encontrados %s com score de %0.4f\" % (grid_lm.best_params_, grid_lm.best_score_))"
      ],
      "execution_count": 78,
      "outputs": [
        {
          "output_type": "stream",
          "text": [
            "Melhores parametros encontrados {'C': 0.001, 'penalty': 'l1'} com score de 0.6807\n"
          ],
          "name": "stdout"
        }
      ]
    },
    {
      "cell_type": "code",
      "metadata": {
        "id": "QqxqSpqu8jqf"
      },
      "source": [
        "from sklearn import metrics\n",
        "import seaborn as sns; sns.set()\n",
        "\n",
        "def evaluate(y, p, probabilities, labels=None):\n",
        "    # Cálculo das métricas de acerto.\n",
        "    print('Accuracy:', metrics.accuracy_score(y, p).round(3))\n",
        "    print('Accuracy (balanced):', metrics.balanced_accuracy_score(y, p).round(3))\n",
        "    \n",
        "    # Calculo da matriz de confusão.\n",
        "    c = metrics.confusion_matrix(y, p)\n",
        "    r = c / c.sum(axis=1, keepdims=True)\n",
        "    \n",
        "    # Impressão dos gráficos.\n",
        "    (plt\n",
        "     .figure(figsize=(10, 8))\n",
        "     .suptitle('Matriz de confusão', fontsize=20))\n",
        "    sns.heatmap(r,\n",
        "                cmap=\"YlGnBu\", linewidths=.5, annot=True, fmt=\".1%\",\n",
        "                xticklabels=labels, yticklabels=labels, cbar=False)    "
      ],
      "execution_count": 19,
      "outputs": []
    },
    {
      "cell_type": "code",
      "metadata": {
        "colab": {
          "base_uri": "https://localhost:8080/",
          "height": 579
        },
        "id": "D7XhzTaI8wWb",
        "outputId": "2fadf160-cd18-4899-ba80-f35017c291e2"
      },
      "source": [
        "evaluate(y_val, g.predict(x_val), g.predict_proba(x_val), labels=label_enc.classes_)"
      ],
      "execution_count": 79,
      "outputs": [
        {
          "output_type": "stream",
          "text": [
            "Accuracy: 0.668\n",
            "Accuracy (balanced): 0.37\n"
          ],
          "name": "stdout"
        },
        {
          "output_type": "display_data",
          "data": {
            "image/png": "[encoded data removed]",
            "text/plain": [
              "<Figure size 720x576 with 1 Axes>"
            ]
          },
          "metadata": {
            "tags": []
          }
        }
      ]
    },
    {
      "cell_type": "markdown",
      "metadata": {
        "id": "o8IBhji-KeQb"
      },
      "source": [
        "## FLORESTA ALEATÓRIA"
      ]
    },
    {
      "cell_type": "code",
      "metadata": {
        "colab": {
          "base_uri": "https://localhost:8080/"
        },
        "id": "NX-ZcXvC2AmR",
        "outputId": "55ae2bf9-0966-410d-d01d-a316dbeb7baa"
      },
      "source": [
        "y_train.value_counts()"
      ],
      "execution_count": 36,
      "outputs": [
        {
          "output_type": "execute_result",
          "data": {
            "text/plain": [
              "unrelated    5490\n",
              "agreed       2309\n",
              "disagreed     201\n",
              "Name: label, dtype: int64"
            ]
          },
          "metadata": {
            "tags": []
          },
          "execution_count": 36
        }
      ]
    },
    {
      "cell_type": "code",
      "metadata": {
        "id": "Ynkz8AoZPz6H"
      },
      "source": [
        "# Random Forest\n",
        "clf = RandomForestClassifier(   \n",
        "    random_state=0, \n",
        "    oob_score=True, \n",
        "    n_jobs=-1, \n",
        "    class_weight='balanced', \n",
        "    max_features=features\n",
        ")\n",
        "\n",
        "grid_clf_values = {'max_depth': [5, 10, 15], 'n_estimators': [100]}\n",
        "grid_clf = GridSearchCV(clf, param_grid = grid_clf_values, cv=3, scoring = 'balanced_accuracy', n_jobs = -1)\n",
        "\n",
        "grid_clf.fit(x_train, y_train)"
      ],
      "execution_count": null,
      "outputs": []
    },
    {
      "cell_type": "code",
      "metadata": {
        "colab": {
          "base_uri": "https://localhost:8080/"
        },
        "id": "ZaZiHK-vAAcT",
        "outputId": "e1733d86-9dac-47f8-fd33-d1f232d85b93"
      },
      "source": [
        "# Imprimindo os melhores parâmetros encontrados\n",
        "print(\"Melhores parametros encontrados %s com score de %0.4f\" % (grid_clf.best_params_, grid_clf.best_score_))"
      ],
      "execution_count": null,
      "outputs": [
        {
          "output_type": "stream",
          "text": [
            "Melhores parametros encontrados {'max_depth': 15, 'n_estimators': 200} com score de 0.4199\n"
          ],
          "name": "stdout"
        }
      ]
    },
    {
      "cell_type": "code",
      "metadata": {
        "colab": {
          "base_uri": "https://localhost:8080/",
          "height": 579
        },
        "id": "aTgGPy20Qco2",
        "outputId": "d8f01827-9763-4a03-8036-826878b12ae1"
      },
      "source": [
        "evaluate(y_val, grid_clf.predict(x_val), grid_clf.predict_proba(x_val), labels=label_enc.classes_)"
      ],
      "execution_count": null,
      "outputs": [
        {
          "output_type": "stream",
          "text": [
            "Accuracy: 0.342\n",
            "Accuracy (balanced): 0.428\n"
          ],
          "name": "stdout"
        },
        {
          "output_type": "display_data",
          "data": {
            "image/png": "[encoded data removed]",
            "text/plain": [
              "<Figure size 720x576 with 1 Axes>"
            ]
          },
          "metadata": {
            "tags": []
          }
        }
      ]
    },
    {
      "cell_type": "code",
      "metadata": {
        "id": "dgTIr48Jp2TI"
      },
      "source": [
        "# exemplo smote\n",
        "model = make_pipeline(\n",
        "  SMOTE(),\n",
        "  LogisticRegression()\n",
        ")\n",
        "model.fit(X, y)\n",
        "# Exemplo smoteenn\n",
        "from imblearn.combine import SMOTEENN\n",
        "resampler = SMOTEENN()\n",
        "X_resampled, y_resampled = resampler.fit_resample(X, y)"
      ],
      "execution_count": null,
      "outputs": []
    },
    {
      "cell_type": "code",
      "metadata": {
        "colab": {
          "base_uri": "https://localhost:8080/"
        },
        "id": "Cs0SiPppxCGd",
        "outputId": "f31b9d64-17a5-43a0-fb38-69264c895ebf"
      },
      "source": [
        "resampler = SMOTEENN(random_state=0)\n",
        "x_train_resampled, y_train_resampled = resampler.fit_resample(x_train, y_train)\n"
      ],
      "execution_count": 72,
      "outputs": [
        {
          "output_type": "stream",
          "text": [
            "/usr/local/lib/python3.7/dist-packages/sklearn/utils/deprecation.py:87: FutureWarning: Function safe_indexing is deprecated; safe_indexing is deprecated in version 0.22 and will be removed in version 0.24.\n",
            "  warnings.warn(msg, category=FutureWarning)\n",
            "/usr/local/lib/python3.7/dist-packages/sklearn/utils/deprecation.py:87: FutureWarning: Function safe_indexing is deprecated; safe_indexing is deprecated in version 0.22 and will be removed in version 0.24.\n",
            "  warnings.warn(msg, category=FutureWarning)\n",
            "/usr/local/lib/python3.7/dist-packages/sklearn/utils/deprecation.py:87: FutureWarning: Function safe_indexing is deprecated; safe_indexing is deprecated in version 0.22 and will be removed in version 0.24.\n",
            "  warnings.warn(msg, category=FutureWarning)\n",
            "/usr/local/lib/python3.7/dist-packages/sklearn/utils/deprecation.py:87: FutureWarning: Function safe_indexing is deprecated; safe_indexing is deprecated in version 0.22 and will be removed in version 0.24.\n",
            "  warnings.warn(msg, category=FutureWarning)\n",
            "/usr/local/lib/python3.7/dist-packages/sklearn/utils/deprecation.py:87: FutureWarning: Function safe_indexing is deprecated; safe_indexing is deprecated in version 0.22 and will be removed in version 0.24.\n",
            "  warnings.warn(msg, category=FutureWarning)\n",
            "/usr/local/lib/python3.7/dist-packages/sklearn/utils/deprecation.py:87: FutureWarning: Function safe_indexing is deprecated; safe_indexing is deprecated in version 0.22 and will be removed in version 0.24.\n",
            "  warnings.warn(msg, category=FutureWarning)\n"
          ],
          "name": "stderr"
        }
      ]
    },
    {
      "cell_type": "code",
      "metadata": {
        "id": "sxJYwtSHybjw",
        "colab": {
          "base_uri": "https://localhost:8080/"
        },
        "outputId": "b38ad077-f465-4d50-d9df-fee83b12763a"
      },
      "source": [
        "y_train_resampled.shape"
      ],
      "execution_count": 73,
      "outputs": [
        {
          "output_type": "execute_result",
          "data": {
            "text/plain": [
              "(20756,)"
            ]
          },
          "metadata": {
            "tags": []
          },
          "execution_count": 73
        }
      ]
    },
    {
      "cell_type": "code",
      "metadata": {
        "id": "PM0gAwSqykc7",
        "colab": {
          "base_uri": "https://localhost:8080/"
        },
        "outputId": "44496e5b-fddd-4ef5-c70d-493c350f0339"
      },
      "source": [
        "# Random Forest com SMOTEENN\n",
        "clf = RandomForestClassifier(   \n",
        "    random_state=0, \n",
        "    oob_score=True, \n",
        "    n_jobs=-1, \n",
        "    class_weight='balanced', \n",
        "    max_features=features\n",
        ")\n",
        "\n",
        "grid_clf_values = {'max_depth': [5, 10, 15], 'n_estimators': [50, 150, 200]}\n",
        "grid_clf = GridSearchCV(clf, param_grid = grid_clf_values, cv=3, scoring = 'balanced_accuracy', n_jobs = -1)\n",
        "\n",
        "grid_clf.fit(x_train_resampled, y_train_resampled)"
      ],
      "execution_count": 74,
      "outputs": [
        {
          "output_type": "execute_result",
          "data": {
            "text/plain": [
              "GridSearchCV(cv=3, error_score=nan,\n",
              "             estimator=RandomForestClassifier(bootstrap=True, ccp_alpha=0.0,\n",
              "                                              class_weight='balanced',\n",
              "                                              criterion='gini', max_depth=None,\n",
              "                                              max_features=200,\n",
              "                                              max_leaf_nodes=None,\n",
              "                                              max_samples=None,\n",
              "                                              min_impurity_decrease=0.0,\n",
              "                                              min_impurity_split=None,\n",
              "                                              min_samples_leaf=1,\n",
              "                                              min_samples_split=2,\n",
              "                                              min_weight_fraction_leaf=0.0,\n",
              "                                              n_estimators=100, n_jobs=-1,\n",
              "                                              oob_score=True, random_state=0,\n",
              "                                              verbose=0, warm_start=False),\n",
              "             iid='deprecated', n_jobs=-1,\n",
              "             param_grid={'max_depth': [5, 10, 15],\n",
              "                         'n_estimators': [50, 150, 200]},\n",
              "             pre_dispatch='2*n_jobs', refit=True, return_train_score=False,\n",
              "             scoring='balanced_accuracy', verbose=0)"
            ]
          },
          "metadata": {
            "tags": []
          },
          "execution_count": 74
        }
      ]
    },
    {
      "cell_type": "code",
      "metadata": {
        "id": "WIB2OX8EyzNJ",
        "colab": {
          "base_uri": "https://localhost:8080/",
          "height": 579
        },
        "outputId": "fdbbabb9-0d5e-4d3f-b5f0-13aefa03a974"
      },
      "source": [
        "evaluate(y_val, grid_clf.predict(x_val), grid_clf.predict_proba(x_val), labels=label_enc.classes_)"
      ],
      "execution_count": 75,
      "outputs": [
        {
          "output_type": "stream",
          "text": [
            "Accuracy: 0.413\n",
            "Accuracy (balanced): 0.547\n"
          ],
          "name": "stdout"
        },
        {
          "output_type": "display_data",
          "data": {
            "image/png": "[encoded data removed]",
            "text/plain": [
              "<Figure size 720x576 with 1 Axes>"
            ]
          },
          "metadata": {
            "tags": []
          }
        }
      ]
    },
    {
      "cell_type": "markdown",
      "metadata": {
        "id": "YScTikUjXRzJ"
      },
      "source": [
        "## Redes Neurais"
      ]
    },
    {
      "cell_type": "code",
      "metadata": {
        "id": "d6__98IqXWHI"
      },
      "source": [
        "from keras.utils import np_utils\n",
        "from keras.models import Sequential\n",
        "from keras import Model\n",
        "from keras.layers import Dense, Activation, Input, InputLayer, Dropout\n",
        "from keras import optimizers, callbacks"
      ],
      "execution_count": null,
      "outputs": []
    },
    {
      "cell_type": "code",
      "metadata": {
        "id": "hnx1Z-4TX6lX"
      },
      "source": [
        "epochs = 20\n",
        "batch_size = 128\n",
        "input_shape = [features]"
      ],
      "execution_count": null,
      "outputs": []
    },
    {
      "cell_type": "code",
      "metadata": {
        "id": "lnNNo_qcX-HV"
      },
      "source": [
        "y_ohe_train = np_utils.to_categorical(ye_train, num_classes=3)\n",
        "y_ohe_val = np_utils.to_categorical(ye_val, num_classes=3)"
      ],
      "execution_count": null,
      "outputs": []
    },
    {
      "cell_type": "code",
      "metadata": {
        "id": "XPSTgx7PYJIo"
      },
      "source": [
        "model = Sequential([\n",
        "InputLayer((1024,)),\n",
        "Dense(1024, activation=\"relu\"),\n",
        "Dense(256, activation = \"relu\"),\n",
        "Dense(6, activation=\"softmax\")\n",
        "])\n",
        "\n",
        "model.compile(optimizer='sgd',\n",
        "loss='categorical_crossentropy',\n",
        "# metrics=['accuracy'])\n",
        "metrics=['categorical_accuracy', 'top_k_categorical_accuracy'])\n",
        "\n",
        "model.summary()"
      ],
      "execution_count": null,
      "outputs": []
    },
    {
      "cell_type": "markdown",
      "metadata": {
        "id": "SAnoL0ORg2Eg"
      },
      "source": [
        "\n",
        "\n",
        "1.   Fazer tfidf usando os bigramas \n",
        "2.   Fazer o SMOTEEN antes de utilizar os classificadores\n",
        "3.   Rodar novamente os classificadores \n",
        "4.   Estudar como usar o hub para classificação de sentimento em textos  https://www.tensorflow.org/tutorials/keras/text_classification_with_hub, https://tfhub.dev/google/universal-sentence-encoder/4\n",
        "5.   Fazer uma rede normal\n",
        "6.   Estudar redes siamesas https://keras.io/examples/vision/siamese_contrastive/\n",
        "\n",
        "Se der tempo \n",
        "1. Estudar BERT ( arquitetura moderna para processamento ) \n",
        "    https://www.tensorflow.org/text/tutorials/classify_text_with_bert\n",
        "2. https://huggingface.co/transformers/\n",
        "3. Aumentação de texto https://arxiv.org/pdf/1901.11196.pdf\n",
        "\n",
        "5.   Procurar alguma rede pronta como https://tfhub.dev/google/nnlm-en-dim128/2\n",
        "\n",
        "Uma última dica: tem uma outra formulação para problemas de matching que nós chamamos de metric learning.\n",
        "O objetivo desse tipo de aprendizado é mapear objetos não-estruturados (ex frases) em um espaço que preserve a relação de contraste entre eles (ex: frases que concordam próximas/frases que discordam distantes).\n",
        "Nesse tipo de aprendizado, você tem uma rede siamesa (com duas entradas) e uma saída (se as entradas são ou não similares).\n",
        "Você poderia treinar esse modelo pra identificar se duas frases concordam ou não.\n",
        "Exemplo no tensorflow: https://keras.io/examples/vision/siamese_contrastive/"
      ]
    }
  ]
}